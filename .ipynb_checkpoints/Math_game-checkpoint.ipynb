{
 "cells": [
  {
   "cell_type": "code",
   "execution_count": 1,
   "metadata": {},
   "outputs": [],
   "source": [
    "################## Math Game #########################\n",
    "######################################################"
   ]
  },
  {
   "cell_type": "code",
   "execution_count": 1,
   "metadata": {},
   "outputs": [
    {
     "name": "stdout",
     "output_type": "stream",
     "text": [
      "40\n"
     ]
    }
   ],
   "source": [
    "####### Getting user point ##########\n",
    "\n",
    "def get_user_point(userName):\n",
    " user_list = []\n",
    " score_list = []\n",
    " with open(\"user_Scores.txt\", \"r\") as f: \n",
    "    for line in f:\n",
    "       content = line.split()\n",
    "       user_list.append(content[0])\n",
    "       score_list.append(content[1])\n",
    "    for x,y in zip(user_list,score_list):\n",
    "     if userName == x:\n",
    "        return y\n",
    "    else:\n",
    "        return \"-1\"   \n",
    "print(get_user_point(\"Suraj\"))"
   ]
  },
  {
   "cell_type": "code",
   "execution_count": 3,
   "metadata": {},
   "outputs": [
    {
     "ename": "IndexError",
     "evalue": "list index out of range",
     "output_type": "error",
     "traceback": [
      "\u001b[0;31m---------------------------------------------------------------------------\u001b[0m",
      "\u001b[0;31mIndexError\u001b[0m                                Traceback (most recent call last)",
      "\u001b[0;32m<ipython-input-3-3392f8335b87>\u001b[0m in \u001b[0;36m<module>\u001b[0;34m\u001b[0m\n\u001b[1;32m     18\u001b[0m             \u001b[0mprint\u001b[0m\u001b[0;34m(\u001b[0m\u001b[0;34m'2 ran'\u001b[0m\u001b[0;34m)\u001b[0m\u001b[0;34m\u001b[0m\u001b[0;34m\u001b[0m\u001b[0m\n\u001b[1;32m     19\u001b[0m \u001b[0;34m\u001b[0m\u001b[0m\n\u001b[0;32m---> 20\u001b[0;31m \u001b[0mupdateUserPoints\u001b[0m\u001b[0;34m(\u001b[0m\u001b[0;32mFalse\u001b[0m\u001b[0;34m,\u001b[0m \u001b[0;34m\"Tea\"\u001b[0m\u001b[0;34m,\u001b[0m \u001b[0;36m45\u001b[0m\u001b[0;34m)\u001b[0m\u001b[0;34m\u001b[0m\u001b[0;34m\u001b[0m\u001b[0m\n\u001b[0m",
      "\u001b[0;32m<ipython-input-3-3392f8335b87>\u001b[0m in \u001b[0;36mupdateUserPoints\u001b[0;34m(newUser, user_Name, score)\u001b[0m\n\u001b[1;32m     11\u001b[0m                 \u001b[0;32mfor\u001b[0m \u001b[0mline\u001b[0m \u001b[0;32min\u001b[0m \u001b[0ms\u001b[0m\u001b[0;34m:\u001b[0m\u001b[0;34m\u001b[0m\u001b[0;34m\u001b[0m\u001b[0m\n\u001b[1;32m     12\u001b[0m                     \u001b[0mcontent\u001b[0m \u001b[0;34m=\u001b[0m \u001b[0mline\u001b[0m\u001b[0;34m.\u001b[0m\u001b[0msplit\u001b[0m\u001b[0;34m(\u001b[0m\u001b[0;34m)\u001b[0m\u001b[0;34m\u001b[0m\u001b[0;34m\u001b[0m\u001b[0m\n\u001b[0;32m---> 13\u001b[0;31m                     \u001b[0;32mif\u001b[0m \u001b[0muser_Name\u001b[0m \u001b[0;34m==\u001b[0m \u001b[0mcontent\u001b[0m\u001b[0;34m[\u001b[0m\u001b[0;36m0\u001b[0m\u001b[0;34m]\u001b[0m\u001b[0;34m:\u001b[0m\u001b[0;34m\u001b[0m\u001b[0;34m\u001b[0m\u001b[0m\n\u001b[0m\u001b[1;32m     14\u001b[0m                         \u001b[0mcontent\u001b[0m\u001b[0;34m[\u001b[0m\u001b[0;36m1\u001b[0m\u001b[0;34m]\u001b[0m \u001b[0;34m=\u001b[0m \u001b[0mscore\u001b[0m\u001b[0;34m\u001b[0m\u001b[0;34m\u001b[0m\u001b[0m\n\u001b[1;32m     15\u001b[0m                     \u001b[0mdetails\u001b[0m\u001b[0;34m.\u001b[0m\u001b[0mappend\u001b[0m\u001b[0;34m(\u001b[0m\u001b[0mcontent\u001b[0m\u001b[0;34m)\u001b[0m\u001b[0;34m\u001b[0m\u001b[0;34m\u001b[0m\u001b[0m\n",
      "\u001b[0;31mIndexError\u001b[0m: list index out of range"
     ]
    }
   ],
   "source": [
    "######## Updating user points #############\n",
    "def updateUserPoints(newUser,user_Name,score):\n",
    "    if newUser == True:\n",
    "        with open(\"user_Scores.txt\", \"a\") as my_file:\n",
    "           my_file.write(\"\\n\" + user_Name + \" \" + str(score) + \"\\n\")\n",
    "           print('1 ran')\n",
    "    else:\n",
    "         details = []\n",
    "         with open(\"userScores.tmp\", \"w\") as my_file:\n",
    "            with open(\"user_Scores.txt\", \"r\") as s:      \n",
    "                for line in s:\n",
    "                    content = line.split()\n",
    "                    if user_Name == content[0]:\n",
    "                        content[1] = score\n",
    "                    details.append(content)\n",
    "            my_file.write(str(details) + \"\\n\")        \n",
    "            print(content)\n",
    "            print('2 ran') \n",
    "            \n",
    "updateUserPoints(False, \"Tea\", 45)           \n"
   ]
  },
  {
   "cell_type": "code",
   "execution_count": 83,
   "metadata": {},
   "outputs": [
    {
     "name": "stdout",
     "output_type": "stream",
     "text": [
      "operand list : [7, 5, 4, 3, 6]\n",
      "* number of occurence : 1\n",
      "['*', '+', '', '-']\n",
      " 2 ran\n"
     ]
    }
   ],
   "source": [
    "################### Generating the question ###################\n",
    "import random\n",
    "operandList  = [0,4,7,9,6]\n",
    "operatorList = [\" \", \"tea\", \"cup\", \"man\"]\n",
    "operatorDict = {1 : \"+\", 2: \"-\", 3: \"\", 4: \"*\"}\n",
    "\n",
    "############ Updating the operandList with random numbers between the range 1-9 ############\n",
    "for i in range(0,len(operandList)):\n",
    "  operandList[i] = random.randint(1, 9)\n",
    "print(\"operand list : \" + str(operandList))\n",
    "\n",
    "###### Updating the operatorList by using randint() on the operatorDict to generate random operators ######\n",
    "for z in range(0,len(operatorList)):\n",
    " operatorList[z] = operatorDict[random.randint(1,4)]\n",
    "count = operatorList.count(\"*\")\n",
    "print(\"* number of occurence : \" + str(count))\n",
    "\n",
    "if \"*\" in operatorList and count >= 2:\n",
    "  operatorList[z] = \" \"\n",
    "  print(operatorList) \n",
    "  print(\"1 ran\") \n",
    "else:\n",
    "    print(operatorList) \n",
    "    print(\" 2 ran\") "
   ]
  },
  {
   "cell_type": "code",
   "execution_count": null,
   "metadata": {},
   "outputs": [],
   "source": []
  },
  {
   "cell_type": "code",
   "execution_count": null,
   "metadata": {},
   "outputs": [],
   "source": []
  }
 ],
 "metadata": {
  "kernelspec": {
   "display_name": "Python 3",
   "language": "python",
   "name": "python3"
  },
  "language_info": {
   "codemirror_mode": {
    "name": "ipython",
    "version": 3
   },
   "file_extension": ".py",
   "mimetype": "text/x-python",
   "name": "python",
   "nbconvert_exporter": "python",
   "pygments_lexer": "ipython3",
   "version": "3.8.5"
  }
 },
 "nbformat": 4,
 "nbformat_minor": 4
}
