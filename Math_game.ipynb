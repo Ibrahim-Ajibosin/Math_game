{
 "cells": [
  {
   "cell_type": "code",
   "execution_count": 13,
   "metadata": {},
   "outputs": [],
   "source": [
    "################## Math Game #########################\n",
    "######################################################"
   ]
  },
  {
   "cell_type": "code",
   "execution_count": 14,
   "metadata": {},
   "outputs": [],
   "source": [
    "from myfunctions import get_user_point,updateUserPoints"
   ]
  },
  {
   "cell_type": "code",
   "execution_count": 15,
   "metadata": {},
   "outputs": [
    {
     "data": {
      "text/plain": "'20'"
     },
     "execution_count": 15,
     "metadata": {},
     "output_type": "execute_result"
    }
   ],
   "source": [
    "get_user_point(\"Ann\")"
   ]
  },
  {
   "cell_type": "code",
   "execution_count": 16,
   "metadata": {},
   "outputs": [
    {
     "name": "stdout",
     "output_type": "stream",
     "text": [
      "[['Ann', '20'], ['Bret', '30'], ['Lucy', '50'], ['Ola', '80'], ['Suraj', 67], ['Tea', '5']]\n",
      "2 ran\n"
     ]
    }
   ],
   "source": [
    "updateUserPoints(False,\"Suraj\",67)"
   ]
  },
  {
   "cell_type": "code",
   "execution_count": 8,
   "metadata": {},
   "outputs": [
    {
     "name": "stdout",
     "output_type": "stream",
     "text": [
      "operand list : [2, 2, 4, 4, 8]\n",
      "1\n",
      "['-', '-', '+', '**']\n"
     ]
    }
   ],
   "source": [
    "################### Generating the question ###################\n",
    "import random\n",
    "\n",
    "operandList  = [0,4,7,9,6]\n",
    "operatorList = [\" \", \"tea\", \"cup\", \"man\"]\n",
    "operatorDict = {1 : \"+\", 2: \"-\", 3: \"**\", 4: \"*\"}\n",
    "\n",
    "############ Updating the operandList with random numbers between the range 1-9 ############\n",
    "for i in range(0,len(operandList)):\n",
    "  operandList[i] = random.randint(1, 9)\n",
    "print(\"operand list : \" + str(operandList))\n",
    "\n",
    "###### Updating the operatorList by using randint() on the operatorDict to generate random operators ######\n",
    "for z in range(0,len(operatorList)):\n",
    " operatorList[z] = operatorDict[random.randint(1,4)]\n",
    " count = operatorList.count(\"**\")\n",
    "\n",
    "######## keeping the first occurence of \"**\" and replacing the subsequent ones with an empty string ########\n",
    "wanted_index = [a for a,b in enumerate(operatorList) if b == \"**\"]\n",
    "if len(wanted_index) > 1 :\n",
    "  for j in range(1, len(wanted_index)):\n",
    "    operatorList[wanted_index[j]] = \" \"\n",
    "\n",
    "print(count)\n",
    "print (operatorList)\n"
   ]
  },
  {
   "cell_type": "code",
   "execution_count": 9,
   "metadata": {},
   "outputs": [
    {
     "name": "stdout",
     "output_type": "stream",
     "text": [
      "65532\n"
     ]
    }
   ],
   "source": [
    "############## Generating the mathematical expression ##############\n",
    "\n",
    "from itertools import zip_longest\n",
    "question_string = \"\"\n",
    "for operand, operator in zip_longest(operandList,operatorList,fillvalue=\"\"):\n",
    " question_string += str(operand) + operator\n",
    "result = eval(question_string)\n",
    "print(result)"
   ]
  },
  {
   "cell_type": "code",
   "execution_count": 12,
   "metadata": {},
   "outputs": [
    {
     "name": "stdout",
     "output_type": "stream",
     "text": [
      "2-2-4+4^8\n",
      "Enter an interger\n"
     ]
    }
   ],
   "source": [
    "################# Interacting with the user #################\n",
    "\n",
    "user_question = question_string.replace(\"**\", \"^\")\n",
    "print(user_question)\n",
    "\n",
    "try :\n",
    "    user_input = int(input(\"Type your question\"))\n",
    "    if result == user_input :\n",
    "        print(\"Good work : 1\" )\n",
    "    else:\n",
    "        print(\"Try again : 0\")\n",
    "except:\n",
    "    print(\"Enter an interger\")"
   ]
  },
  {
   "cell_type": "code",
   "execution_count": null,
   "metadata": {},
   "outputs": [],
   "source": []
  }
 ],
 "metadata": {
  "kernelspec": {
   "display_name": "Python 3.8.5 64-bit ('anaconda3': virtualenv)",
   "name": "python385jvsc74a57bd0d436865fd0486399d12d57635bfe7895cdea8cd6e2c44689ff219b3410b3863b"
  },
  "language_info": {
   "codemirror_mode": {
    "name": "ipython",
    "version": 3
   },
   "file_extension": ".py",
   "mimetype": "text/x-python",
   "name": "python",
   "nbconvert_exporter": "python",
   "pygments_lexer": "ipython3",
   "version": "3.8.5"
  }
 },
 "nbformat": 4,
 "nbformat_minor": 4
}