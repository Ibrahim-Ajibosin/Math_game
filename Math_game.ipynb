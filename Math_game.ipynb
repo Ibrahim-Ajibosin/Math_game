{
 "cells": [
  {
   "cell_type": "code",
   "execution_count": 1,
   "metadata": {},
   "outputs": [],
   "source": [
    "################## Math Game #########################\n",
    "######################################################"
   ]
  },
  {
   "cell_type": "code",
   "execution_count": 9,
   "metadata": {},
   "outputs": [
    {
     "name": "stdout",
     "output_type": "stream",
     "text": [
      "5\n"
     ]
    }
   ],
   "source": [
    "####### Getting user point ##########\n",
    "\n",
    "def get_user_point(userName):\n",
    " user_list = []\n",
    " score_list = []\n",
    " with open(\"user_Scores.txt\", \"r\") as f: \n",
    "    for line in f:\n",
    "       content = line.split()\n",
    "       user_list.append(content[0])\n",
    "       score_list.append(content[1])\n",
    "    for x,y in zip(user_list,score_list):\n",
    "     if userName == x:\n",
    "        return y\n",
    "    else:\n",
    "        return \"-1\"   \n",
    "print(get_user_point(\"Tea\"))"
   ]
  },
  {
   "cell_type": "code",
   "execution_count": 14,
   "metadata": {},
   "outputs": [
    {
     "name": "stdout",
     "output_type": "stream",
     "text": [
      "[['Ann', '20'], ['Bret', '30'], ['Lucy', '50'], ['Ola', '80'], ['Suraj', 57], ['Tea', '5']]\n",
      "2 ran\n"
     ]
    }
   ],
   "source": [
    "######## Updating user points #############\n",
    "def updateUserPoints(newUser,user_Name,score):\n",
    "    if newUser == True:\n",
    "        with open(\"user_Scores.txt\", \"a\") as my_file:\n",
    "           my_file.write(\"\\n\" + user_Name + \" \" + str(score) + \"\\n\")\n",
    "           print('1 ran')\n",
    "    else:\n",
    "         details = []\n",
    "         with open(\"user_Scores.tmp\", \"w\") as my_file:\n",
    "            with open(\"user_Scores.txt\", \"r\") as s:      \n",
    "                for line in s:\n",
    "                    content = line.split()\n",
    "                    if user_Name == content[0]:\n",
    "                        content[1] = score\n",
    "                    details.append(content)\n",
    "            my_file.write(str(details) + \"\\n\")        \n",
    "            print(details)\n",
    "            print('2 ran') \n",
    "            \n",
    "updateUserPoints(False, \"Suraj\", 57)           \n"
   ]
  },
  {
   "cell_type": "code",
   "execution_count": 15,
   "metadata": {},
   "outputs": [
    {
     "name": "stdout",
     "output_type": "stream",
     "text": [
      "operand list : [3, 4, 8, 2, 7]\n",
      "['', '+', '*', '-']\n",
      " 2 ran\n",
      "* number of occurence : 1\n"
     ]
    }
   ],
   "source": [
    "################### Generating the question ###################\n",
    "import random\n",
    "\n",
    "operandList  = [0,4,7,9,6]\n",
    "operatorList = [\" \", \"tea\", \"cup\", \"man\"]\n",
    "operatorDict = {1 : \"+\", 2: \"-\", 3: \"\", 4: \"*\"}\n",
    "\n",
    "############ Updating the operandList with random numbers between the range 1-9 ############\n",
    "for i in range(0,len(operandList)):\n",
    "  operandList[i] = random.randint(1, 9)\n",
    "print(\"operand list : \" + str(operandList))\n",
    "\n",
    "###### Updating the operatorList by using randint() on the operatorDict to generate random operators ######\n",
    "for z in range(0,len(operatorList)):\n",
    " operatorList[z] = operatorDict[random.randint(1,4)]\n",
    "\n",
    "count = operatorList.count(\"*\")\n",
    "\n",
    "if \"*\" in operatorList and count >= 2:\n",
    "  for x in range(len(operatorList)) :\n",
    "    if operatorList[x] == \"*\" :\n",
    "       operatorList[x] = \" \"\n",
    "  print(\"operator list : \" + str(operatorList)) \n",
    "else:\n",
    "  print(operatorList) \n",
    "  print(\" 2 ran\") \n",
    "\n",
    "print(\"* number of occurence : \" + str(count))\n"
   ]
  },
  {
   "cell_type": "code",
   "execution_count": null,
   "metadata": {},
   "outputs": [],
   "source": []
  }
 ],
 "metadata": {
  "kernelspec": {
   "display_name": "Python 3.8.5 64-bit ('base': conda)",
   "name": "python385jvsc74a57bd0d436865fd0486399d12d57635bfe7895cdea8cd6e2c44689ff219b3410b3863b"
  },
  "language_info": {
   "name": "python",
   "version": ""
  }
 },
 "nbformat": 4,
 "nbformat_minor": 4
}