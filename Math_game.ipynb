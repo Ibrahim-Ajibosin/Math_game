{
 "cells": [
  {
   "cell_type": "code",
   "execution_count": 1,
   "metadata": {},
   "outputs": [],
   "source": [
    "################## Math Game #########################\n",
    "######################################################"
   ]
  },
  {
   "cell_type": "code",
   "execution_count": 6,
   "metadata": {},
   "outputs": [
    {
     "name": "stdout",
     "output_type": "stream",
     "text": [
      "5\n"
     ]
    }
   ],
   "source": [
    "####### Getting user point ##########\n",
    "\n",
    "def get_user_point(userName):\n",
    " user_list = []\n",
    " score_list = []\n",
    " with open(\"user_Scores.txt\", \"r\") as f: \n",
    "    for line in f:\n",
    "       content = line.split()\n",
    "       user_list.append(content[0])\n",
    "       score_list.append(content[1])\n",
    "    for x,y in zip(user_list,score_list):\n",
    "     if userName == x:\n",
    "        return y\n",
    "    else:\n",
    "        return \"-1\"   \n",
    "print(get_user_point(\"Tea\"))"
   ]
  },
  {
   "cell_type": "code",
   "execution_count": 14,
   "metadata": {},
   "outputs": [
    {
     "name": "stdout",
     "output_type": "stream",
     "text": [
      "[['Ann', '20'], ['Bret', '30'], ['Lucy', '50'], ['Ola', '80'], ['Suraj', 57], ['Tea', '5']]\n",
      "2 ran\n"
     ]
    }
   ],
   "source": [
    "######## Updating user points #############\n",
    "def updateUserPoints(newUser,user_Name,score):\n",
    "    if newUser == True:\n",
    "        with open(\"user_Scores.txt\", \"a\") as my_file:\n",
    "           my_file.write(\"\\n\" + user_Name + \" \" + str(score) + \"\\n\")\n",
    "           print('1 ran')\n",
    "    else:\n",
    "         details = []\n",
    "         with open(\"user_Scores.tmp\", \"w\") as my_file:\n",
    "            with open(\"user_Scores.txt\", \"r\") as s:      \n",
    "                for line in s:\n",
    "                    content = line.split()\n",
    "                    if user_Name == content[0]:\n",
    "                        content[1] = score\n",
    "                    details.append(content)\n",
    "            my_file.write(str(details) + \"\\n\")        \n",
    "            print(details)\n",
    "            print('2 ran') \n",
    "            \n",
    "updateUserPoints(False, \"Suraj\", 57)           \n"
   ]
  },
  {
   "cell_type": "code",
   "execution_count": 84,
   "metadata": {},
   "outputs": [
    {
     "name": "stdout",
     "output_type": "stream",
     "text": [
      "operand list : [3, 7, 5, 8, 3]\n"
     ]
    }
   ],
   "source": [
    "################### Generating the question ###################\n",
    "import random\n",
    "\n",
    "operandList  = [0,4,7,9,6]\n",
    "operatorList = [\" \", \"tea\", \"cup\", \"man\"]\n",
    "operatorDict = {1 : \"+\", 2: \"-\", 3: \"\", 4: \"*\"}\n",
    "\n",
    "############ Updating the operandList with random numbers between the range 1-9 ############\n",
    "for i in range(0,len(operandList)):\n",
    "  operandList[i] = random.randint(1, 9)\n",
    "print(\"operand list : \" + str(operandList))\n",
    "\n",
    "###### Updating the operatorList by using randint() on the operatorDict to generate random operators ######\n",
    "for z in range(0,len(operatorList)):\n",
    " operatorList[z] = operatorDict[random.randint(1,4)]\n",
    "\n",
    " count = operatorList.count(\"*\")\n",
    "\n",
    " wanted_index = [a for a,b in enumerate(operatorList) if b == \"*\"]\n",
    "if len(wanted_index) > 1 :\n",
    "  for j in range(1, len(wanted_index)):\n",
    "    operatorList[wanted_index[j]] = \" \"\n",
    "\n",
    "  print(count)\n",
    "  print (operatorList)\n"
   ]
  },
  {
   "cell_type": "code",
   "execution_count": 81,
   "metadata": {},
   "outputs": [
    {
     "name": "stdout",
     "output_type": "stream",
     "text": [
      "3-8-8-3-"
     ]
    }
   ],
   "source": [
    "for operand, operator in zip(operandList,operatorList):\n",
    "    print(str(operand) + operator, end='')"
   ]
  },
  {
   "cell_type": "code",
   "execution_count": 34,
   "metadata": {},
   "outputs": [
    {
     "name": "stdout",
     "output_type": "stream",
     "text": [
      "[5, 3, 9, 6, 9]\n"
     ]
    }
   ],
   "source": [
    "print(operandList)"
   ]
  }
 ],
 "metadata": {
  "kernelspec": {
   "display_name": "Python 3.8.5 64-bit ('base': conda)",
   "name": "python385jvsc74a57bd0d436865fd0486399d12d57635bfe7895cdea8cd6e2c44689ff219b3410b3863b"
  },
  "language_info": {
   "codemirror_mode": {
    "name": "ipython",
    "version": 3
   },
   "file_extension": ".py",
   "mimetype": "text/x-python",
   "name": "python",
   "nbconvert_exporter": "python",
   "pygments_lexer": "ipython3",
   "version": "3.8.5"
  }
 },
 "nbformat": 4,
 "nbformat_minor": 4
}