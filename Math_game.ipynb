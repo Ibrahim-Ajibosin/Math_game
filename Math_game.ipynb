{
 "cells": [
  {
   "cell_type": "code",
   "execution_count": 1,
   "metadata": {},
   "outputs": [],
   "source": [
    "################## Math Game #########################"
   ]
  },
  {
   "cell_type": "code",
   "execution_count": null,
   "metadata": {},
   "outputs": [],
   "source": [
    "def get_user_point(userName):\n",
    " user_list = []\n",
    " score_list = []\n",
    " with open(\"user_Scores.txt\", \"r\") as f: \n",
    "    for line in f:\n",
    "       content = line.split()\n",
    "       user_list.append(content[0])\n",
    "       score_list.append(content[1])\n",
    "    for x,y in zip(user_list,score_list):\n",
    "     if userName == x:\n",
    "        return y\n",
    "    else:\n",
    "        return \"-1\"   \n",
    "print(get_user_point(\"Suraj\"))"
   ]
  },
  {
   "cell_type": "code",
   "execution_count": null,
   "metadata": {},
   "outputs": [],
   "source": [
    "def updateUserPoints(newUser,user_Name,score):\n",
    "    if newUser == True:\n",
    "        with open(\"user_Scores.txt\", \"a\") as my_file:\n",
    "           my_file.write(\"\\n\" + user_Name + \" \" + str(score) + \"\\n\")\n",
    "           print('1 ran')\n",
    "    else:\n",
    "         details = []\n",
    "         with open(\"userScores.tmp\", \"w\") as my_file:\n",
    "            with open(\"user_Scores.txt\", \"r\") as s:      \n",
    "                for line in s:\n",
    "                    content = line.split()\n",
    "                    if user_Name == content[0]:\n",
    "                        content[1] = score\n",
    "                    details.append(content)\n",
    "            my_file.write(str(details) + \"\\n\")        \n",
    "            print(content)\n",
    "            print('2 ran') \n",
    "            \n",
    "updateUserPoints(True, \"Tea\", 5)           \n"
   ]
  }
 ],
 "metadata": {
  "kernelspec": {
   "display_name": "Python 3",
   "language": "python",
   "name": "python3"
  },
  "language_info": {
   "codemirror_mode": {
    "name": "ipython",
    "version": 3
   },
   "file_extension": ".py",
   "mimetype": "text/x-python",
   "name": "python",
   "nbconvert_exporter": "python",
   "pygments_lexer": "ipython3",
   "version": "3.8.5"
  }
 },
 "nbformat": 4,
 "nbformat_minor": 4
}